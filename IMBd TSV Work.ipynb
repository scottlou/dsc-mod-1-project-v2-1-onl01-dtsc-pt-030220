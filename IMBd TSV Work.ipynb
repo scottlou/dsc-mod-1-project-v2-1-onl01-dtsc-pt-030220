{
 "cells": [
  {
   "cell_type": "code",
   "execution_count": 20,
   "metadata": {},
   "outputs": [],
   "source": [
    "import pandas as pd\n",
    "# pd.read_csv('filename', delimiter = '\\t', nrows = 'int', usecols = [''])\n",
    "# df.to_csv('filepath/filename') to save\n",
    "# df. (describe(), dtypes, info, column, shape, info, .iloc[row_param,column_param], .loc[row_label_param, column_label_param] and boolean indexing)"
   ]
  },
  {
   "cell_type": "code",
   "execution_count": null,
   "metadata": {},
   "outputs": [],
   "source": [
    "# name_basics_df = pd.read_csv('IMDb_new_tsvs/name.basics.tsv', delimiter ='\\t')\n",
    "# title_akas_df = pd.read_csv('IMDb_new_tsvs/title.akas.tsv', delimiter ='\\t')\n",
    "# title_basics_df = pd.read_csv('IMDb_new_tsvs/title.basics.tsv', delimiter ='\\t')\n",
    "# title_crew_df = pd.read_csv('IMDb_new_tsvs/title.crew.tsv', delimiter ='\\t')\n",
    "# title_principals_df = pd.read_csv('IMDb_new_tsvs/title.principals.tsv', delimiter ='\\t')\n",
    "# title_ratings_df = pd.read_csv('IMDb_new_tsvs/title.ratings.tsv', delimiter ='\\t')"
   ]
  },
  {
   "cell_type": "code",
   "execution_count": 2,
   "metadata": {
    "scrolled": true
   },
   "outputs": [],
   "source": [
    "name_basics_df = pd.read_csv('IMDb_new_tsvs/name.basics.tsv', delimiter ='\\t') # use nrows to limit info displayed"
   ]
  },
  {
   "cell_type": "code",
   "execution_count": 3,
   "metadata": {},
   "outputs": [
    {
     "name": "stdout",
     "output_type": "stream",
     "text": [
      "<class 'pandas.core.frame.DataFrame'>\n",
      "RangeIndex: 10034912 entries, 0 to 10034911\n",
      "Data columns (total 6 columns):\n",
      "nconst               object\n",
      "primaryName          object\n",
      "birthYear            object\n",
      "deathYear            object\n",
      "primaryProfession    object\n",
      "knownForTitles       object\n",
      "dtypes: object(6)\n",
      "memory usage: 459.4+ MB\n"
     ]
    }
   ],
   "source": [
    "name_basics_df.info()"
   ]
  },
  {
   "cell_type": "code",
   "execution_count": 5,
   "metadata": {},
   "outputs": [
    {
     "data": {
      "text/html": [
       "<div>\n",
       "<style scoped>\n",
       "    .dataframe tbody tr th:only-of-type {\n",
       "        vertical-align: middle;\n",
       "    }\n",
       "\n",
       "    .dataframe tbody tr th {\n",
       "        vertical-align: top;\n",
       "    }\n",
       "\n",
       "    .dataframe thead th {\n",
       "        text-align: right;\n",
       "    }\n",
       "</style>\n",
       "<table border=\"1\" class=\"dataframe\">\n",
       "  <thead>\n",
       "    <tr style=\"text-align: right;\">\n",
       "      <th></th>\n",
       "      <th>nconst</th>\n",
       "      <th>primaryName</th>\n",
       "      <th>birthYear</th>\n",
       "      <th>deathYear</th>\n",
       "      <th>primaryProfession</th>\n",
       "      <th>knownForTitles</th>\n",
       "    </tr>\n",
       "  </thead>\n",
       "  <tbody>\n",
       "    <tr>\n",
       "      <td>count</td>\n",
       "      <td>10034912</td>\n",
       "      <td>10034912</td>\n",
       "      <td>10034912</td>\n",
       "      <td>10034912</td>\n",
       "      <td>7993399</td>\n",
       "      <td>10034912</td>\n",
       "    </tr>\n",
       "    <tr>\n",
       "      <td>unique</td>\n",
       "      <td>10034912</td>\n",
       "      <td>7859631</td>\n",
       "      <td>485</td>\n",
       "      <td>427</td>\n",
       "      <td>19864</td>\n",
       "      <td>4201185</td>\n",
       "    </tr>\n",
       "    <tr>\n",
       "      <td>top</td>\n",
       "      <td>nm11143788</td>\n",
       "      <td>David Smith</td>\n",
       "      <td>\\N</td>\n",
       "      <td>\\N</td>\n",
       "      <td>actor</td>\n",
       "      <td>\\N</td>\n",
       "    </tr>\n",
       "    <tr>\n",
       "      <td>freq</td>\n",
       "      <td>1</td>\n",
       "      <td>313</td>\n",
       "      <td>9534867</td>\n",
       "      <td>9858458</td>\n",
       "      <td>1822223</td>\n",
       "      <td>1744377</td>\n",
       "    </tr>\n",
       "  </tbody>\n",
       "</table>\n",
       "</div>"
      ],
      "text/plain": [
       "            nconst  primaryName birthYear deathYear primaryProfession  \\\n",
       "count     10034912     10034912  10034912  10034912           7993399   \n",
       "unique    10034912      7859631       485       427             19864   \n",
       "top     nm11143788  David Smith        \\N        \\N             actor   \n",
       "freq             1          313   9534867   9858458           1822223   \n",
       "\n",
       "       knownForTitles  \n",
       "count        10034912  \n",
       "unique        4201185  \n",
       "top                \\N  \n",
       "freq          1744377  "
      ]
     },
     "execution_count": 5,
     "metadata": {},
     "output_type": "execute_result"
    }
   ],
   "source": [
    "name_basics_df.describe()"
   ]
  },
  {
   "cell_type": "code",
   "execution_count": null,
   "metadata": {},
   "outputs": [],
   "source": []
  },
  {
   "cell_type": "code",
   "execution_count": 2,
   "metadata": {
    "scrolled": true
   },
   "outputs": [
    {
     "data": {
      "text/html": [
       "<div>\n",
       "<style scoped>\n",
       "    .dataframe tbody tr th:only-of-type {\n",
       "        vertical-align: middle;\n",
       "    }\n",
       "\n",
       "    .dataframe tbody tr th {\n",
       "        vertical-align: top;\n",
       "    }\n",
       "\n",
       "    .dataframe thead th {\n",
       "        text-align: right;\n",
       "    }\n",
       "</style>\n",
       "<table border=\"1\" class=\"dataframe\">\n",
       "  <thead>\n",
       "    <tr style=\"text-align: right;\">\n",
       "      <th></th>\n",
       "      <th>nconst</th>\n",
       "      <th>primaryName</th>\n",
       "      <th>birthYear</th>\n",
       "      <th>deathYear</th>\n",
       "      <th>primaryProfession</th>\n",
       "      <th>knownForTitles</th>\n",
       "    </tr>\n",
       "  </thead>\n",
       "  <tbody>\n",
       "    <tr>\n",
       "      <td>0</td>\n",
       "      <td>nm0000001</td>\n",
       "      <td>Fred Astaire</td>\n",
       "      <td>1899</td>\n",
       "      <td>1987</td>\n",
       "      <td>soundtrack,actor,miscellaneous</td>\n",
       "      <td>tt0050419,tt0072308,tt0043044,tt0053137</td>\n",
       "    </tr>\n",
       "    <tr>\n",
       "      <td>1</td>\n",
       "      <td>nm0000002</td>\n",
       "      <td>Lauren Bacall</td>\n",
       "      <td>1924</td>\n",
       "      <td>2014</td>\n",
       "      <td>actress,soundtrack</td>\n",
       "      <td>tt0071877,tt0117057,tt0038355,tt0037382</td>\n",
       "    </tr>\n",
       "    <tr>\n",
       "      <td>2</td>\n",
       "      <td>nm0000003</td>\n",
       "      <td>Brigitte Bardot</td>\n",
       "      <td>1934</td>\n",
       "      <td>\\N</td>\n",
       "      <td>actress,soundtrack,producer</td>\n",
       "      <td>tt0054452,tt0049189,tt0059956,tt0057345</td>\n",
       "    </tr>\n",
       "    <tr>\n",
       "      <td>3</td>\n",
       "      <td>nm0000004</td>\n",
       "      <td>John Belushi</td>\n",
       "      <td>1949</td>\n",
       "      <td>1982</td>\n",
       "      <td>actor,soundtrack,writer</td>\n",
       "      <td>tt0080455,tt0072562,tt0077975,tt0078723</td>\n",
       "    </tr>\n",
       "    <tr>\n",
       "      <td>4</td>\n",
       "      <td>nm0000005</td>\n",
       "      <td>Ingmar Bergman</td>\n",
       "      <td>1918</td>\n",
       "      <td>2007</td>\n",
       "      <td>writer,director,actor</td>\n",
       "      <td>tt0060827,tt0050986,tt0083922,tt0050976</td>\n",
       "    </tr>\n",
       "  </tbody>\n",
       "</table>\n",
       "</div>"
      ],
      "text/plain": [
       "      nconst      primaryName birthYear deathYear  \\\n",
       "0  nm0000001     Fred Astaire      1899      1987   \n",
       "1  nm0000002    Lauren Bacall      1924      2014   \n",
       "2  nm0000003  Brigitte Bardot      1934        \\N   \n",
       "3  nm0000004     John Belushi      1949      1982   \n",
       "4  nm0000005   Ingmar Bergman      1918      2007   \n",
       "\n",
       "                primaryProfession                           knownForTitles  \n",
       "0  soundtrack,actor,miscellaneous  tt0050419,tt0072308,tt0043044,tt0053137  \n",
       "1              actress,soundtrack  tt0071877,tt0117057,tt0038355,tt0037382  \n",
       "2     actress,soundtrack,producer  tt0054452,tt0049189,tt0059956,tt0057345  \n",
       "3         actor,soundtrack,writer  tt0080455,tt0072562,tt0077975,tt0078723  \n",
       "4           writer,director,actor  tt0060827,tt0050986,tt0083922,tt0050976  "
      ]
     },
     "execution_count": 2,
     "metadata": {},
     "output_type": "execute_result"
    }
   ],
   "source": [
    "name_basics_lite_df = pd.read_csv('IMDb_new_tsvs/name.basics.tsv', delimiter ='\\t', nrows = 10000) # use nrows to limit info displayed\n",
    "name_basics_lite_df.head()"
   ]
  },
  {
   "cell_type": "code",
   "execution_count": 3,
   "metadata": {},
   "outputs": [
    {
     "name": "stdout",
     "output_type": "stream",
     "text": [
      "<class 'pandas.core.frame.DataFrame'>\n",
      "RangeIndex: 10000 entries, 0 to 9999\n",
      "Data columns (total 6 columns):\n",
      "nconst               10000 non-null object\n",
      "primaryName          10000 non-null object\n",
      "birthYear            10000 non-null object\n",
      "deathYear            10000 non-null object\n",
      "primaryProfession    9927 non-null object\n",
      "knownForTitles       10000 non-null object\n",
      "dtypes: object(6)\n",
      "memory usage: 468.9+ KB\n"
     ]
    }
   ],
   "source": [
    "name_basics_lite_df.info()"
   ]
  },
  {
   "cell_type": "code",
   "execution_count": 4,
   "metadata": {
    "scrolled": true
   },
   "outputs": [
    {
     "data": {
      "text/html": [
       "<div>\n",
       "<style scoped>\n",
       "    .dataframe tbody tr th:only-of-type {\n",
       "        vertical-align: middle;\n",
       "    }\n",
       "\n",
       "    .dataframe tbody tr th {\n",
       "        vertical-align: top;\n",
       "    }\n",
       "\n",
       "    .dataframe thead th {\n",
       "        text-align: right;\n",
       "    }\n",
       "</style>\n",
       "<table border=\"1\" class=\"dataframe\">\n",
       "  <thead>\n",
       "    <tr style=\"text-align: right;\">\n",
       "      <th></th>\n",
       "      <th>nconst</th>\n",
       "      <th>primaryName</th>\n",
       "      <th>birthYear</th>\n",
       "      <th>deathYear</th>\n",
       "      <th>primaryProfession</th>\n",
       "      <th>knownForTitles</th>\n",
       "    </tr>\n",
       "  </thead>\n",
       "  <tbody>\n",
       "    <tr>\n",
       "      <td>0</td>\n",
       "      <td>nm0000001</td>\n",
       "      <td>Fred Astaire</td>\n",
       "      <td>1899</td>\n",
       "      <td>1987</td>\n",
       "      <td>[soundtrack, actor, miscellaneous]</td>\n",
       "      <td>[tt0050419, tt0072308, tt0043044, tt0053137]</td>\n",
       "    </tr>\n",
       "    <tr>\n",
       "      <td>1</td>\n",
       "      <td>nm0000002</td>\n",
       "      <td>Lauren Bacall</td>\n",
       "      <td>1924</td>\n",
       "      <td>2014</td>\n",
       "      <td>[actress, soundtrack]</td>\n",
       "      <td>[tt0071877, tt0117057, tt0038355, tt0037382]</td>\n",
       "    </tr>\n",
       "    <tr>\n",
       "      <td>2</td>\n",
       "      <td>nm0000003</td>\n",
       "      <td>Brigitte Bardot</td>\n",
       "      <td>1934</td>\n",
       "      <td>\\N</td>\n",
       "      <td>[actress, soundtrack, producer]</td>\n",
       "      <td>[tt0054452, tt0049189, tt0059956, tt0057345]</td>\n",
       "    </tr>\n",
       "    <tr>\n",
       "      <td>3</td>\n",
       "      <td>nm0000004</td>\n",
       "      <td>John Belushi</td>\n",
       "      <td>1949</td>\n",
       "      <td>1982</td>\n",
       "      <td>[actor, soundtrack, writer]</td>\n",
       "      <td>[tt0080455, tt0072562, tt0077975, tt0078723]</td>\n",
       "    </tr>\n",
       "    <tr>\n",
       "      <td>4</td>\n",
       "      <td>nm0000005</td>\n",
       "      <td>Ingmar Bergman</td>\n",
       "      <td>1918</td>\n",
       "      <td>2007</td>\n",
       "      <td>[writer, director, actor]</td>\n",
       "      <td>[tt0060827, tt0050986, tt0083922, tt0050976]</td>\n",
       "    </tr>\n",
       "  </tbody>\n",
       "</table>\n",
       "</div>"
      ],
      "text/plain": [
       "      nconst      primaryName birthYear deathYear  \\\n",
       "0  nm0000001     Fred Astaire      1899      1987   \n",
       "1  nm0000002    Lauren Bacall      1924      2014   \n",
       "2  nm0000003  Brigitte Bardot      1934        \\N   \n",
       "3  nm0000004     John Belushi      1949      1982   \n",
       "4  nm0000005   Ingmar Bergman      1918      2007   \n",
       "\n",
       "                    primaryProfession  \\\n",
       "0  [soundtrack, actor, miscellaneous]   \n",
       "1               [actress, soundtrack]   \n",
       "2     [actress, soundtrack, producer]   \n",
       "3         [actor, soundtrack, writer]   \n",
       "4           [writer, director, actor]   \n",
       "\n",
       "                                 knownForTitles  \n",
       "0  [tt0050419, tt0072308, tt0043044, tt0053137]  \n",
       "1  [tt0071877, tt0117057, tt0038355, tt0037382]  \n",
       "2  [tt0054452, tt0049189, tt0059956, tt0057345]  \n",
       "3  [tt0080455, tt0072562, tt0077975, tt0078723]  \n",
       "4  [tt0060827, tt0050986, tt0083922, tt0050976]  "
      ]
     },
     "execution_count": 4,
     "metadata": {},
     "output_type": "execute_result"
    }
   ],
   "source": [
    "name_basics_lite_df['primaryProfession'] = name_basics_lite_df['primaryProfession'].fillna(\"\")\n",
    "name_basics_lite_df['primaryProfession'] = name_basics_lite_df['primaryProfession'].map(lambda review_text: review_text.split(','))\n",
    "name_basics_lite_df['knownForTitles'] = name_basics_lite_df['knownForTitles'].map(lambda title: title.split(','))\n",
    "name_basics_lite_df.head()"
   ]
  },
  {
   "cell_type": "code",
   "execution_count": 5,
   "metadata": {},
   "outputs": [
    {
     "name": "stdout",
     "output_type": "stream",
     "text": [
      "<class 'pandas.core.frame.DataFrame'>\n",
      "RangeIndex: 10000 entries, 0 to 9999\n",
      "Data columns (total 6 columns):\n",
      "nconst               10000 non-null object\n",
      "primaryName          10000 non-null object\n",
      "birthYear            10000 non-null object\n",
      "deathYear            10000 non-null object\n",
      "primaryProfession    10000 non-null object\n",
      "knownForTitles       10000 non-null object\n",
      "dtypes: object(6)\n",
      "memory usage: 468.9+ KB\n"
     ]
    }
   ],
   "source": [
    "name_basics_lite_df.info()"
   ]
  },
  {
   "cell_type": "code",
   "execution_count": 6,
   "metadata": {},
   "outputs": [
    {
     "data": {
      "text/plain": [
       "\\N      8070\n",
       "2016      51\n",
       "2012      46\n",
       "2014      46\n",
       "2017      45\n",
       "        ... \n",
       "1759       1\n",
       "1911       1\n",
       "1791       1\n",
       "1921       1\n",
       "1899       1\n",
       "Name: deathYear, Length: 131, dtype: int64"
      ]
     },
     "execution_count": 6,
     "metadata": {},
     "output_type": "execute_result"
    }
   ],
   "source": [
    "name_basics_lite_df['deathYear'].value_counts()"
   ]
  },
  {
   "cell_type": "code",
   "execution_count": 7,
   "metadata": {},
   "outputs": [
    {
     "data": {
      "text/plain": [
       "'soundtrack'"
      ]
     },
     "execution_count": 7,
     "metadata": {},
     "output_type": "execute_result"
    }
   ],
   "source": [
    "name_basics_lite_df['primaryProfession'][0][0]"
   ]
  },
  {
   "cell_type": "code",
   "execution_count": 8,
   "metadata": {},
   "outputs": [
    {
     "name": "stdout",
     "output_type": "stream",
     "text": [
      "2979\n",
      "2979\n"
     ]
    }
   ],
   "source": [
    "director_producer_lite_list = []\n",
    "count = 0\n",
    "for x in list(range(0,len(name_basics_lite_df['primaryProfession']))):\n",
    "    if ('producer' or 'director') in name_basics_lite_df['primaryProfession'][x]:\n",
    "        director_producer_lite_list.append(name_basics_lite_df['nconst'][x])\n",
    "        count += 1\n",
    "print(len(director_producer_lite_list))\n",
    "print(count)\n",
    "    "
   ]
  },
  {
   "cell_type": "code",
   "execution_count": 9,
   "metadata": {
    "scrolled": false
   },
   "outputs": [
    {
     "name": "stdout",
     "output_type": "stream",
     "text": [
      "2979\n"
     ]
    },
    {
     "data": {
      "text/html": [
       "<div>\n",
       "<style scoped>\n",
       "    .dataframe tbody tr th:only-of-type {\n",
       "        vertical-align: middle;\n",
       "    }\n",
       "\n",
       "    .dataframe tbody tr th {\n",
       "        vertical-align: top;\n",
       "    }\n",
       "\n",
       "    .dataframe thead th {\n",
       "        text-align: right;\n",
       "    }\n",
       "</style>\n",
       "<table border=\"1\" class=\"dataframe\">\n",
       "  <thead>\n",
       "    <tr style=\"text-align: right;\">\n",
       "      <th></th>\n",
       "      <th>nconst</th>\n",
       "    </tr>\n",
       "  </thead>\n",
       "  <tbody>\n",
       "    <tr>\n",
       "      <td>0</td>\n",
       "      <td>nm0000003</td>\n",
       "    </tr>\n",
       "    <tr>\n",
       "      <td>1</td>\n",
       "      <td>nm0000006</td>\n",
       "    </tr>\n",
       "    <tr>\n",
       "      <td>2</td>\n",
       "      <td>nm0000007</td>\n",
       "    </tr>\n",
       "    <tr>\n",
       "      <td>3</td>\n",
       "      <td>nm0000009</td>\n",
       "    </tr>\n",
       "    <tr>\n",
       "      <td>4</td>\n",
       "      <td>nm0000011</td>\n",
       "    </tr>\n",
       "  </tbody>\n",
       "</table>\n",
       "</div>"
      ],
      "text/plain": [
       "      nconst\n",
       "0  nm0000003\n",
       "1  nm0000006\n",
       "2  nm0000007\n",
       "3  nm0000009\n",
       "4  nm0000011"
      ]
     },
     "execution_count": 9,
     "metadata": {},
     "output_type": "execute_result"
    }
   ],
   "source": [
    "director_producer_lite_df = pd.DataFrame(director_producer_lite_list, columns =['nconst'])\n",
    "print(len(director_producer_lite_df))\n",
    "director_producer_lite_df.head()"
   ]
  },
  {
   "cell_type": "code",
   "execution_count": 10,
   "metadata": {
    "scrolled": true
   },
   "outputs": [
    {
     "data": {
      "text/html": [
       "<div>\n",
       "<style scoped>\n",
       "    .dataframe tbody tr th:only-of-type {\n",
       "        vertical-align: middle;\n",
       "    }\n",
       "\n",
       "    .dataframe tbody tr th {\n",
       "        vertical-align: top;\n",
       "    }\n",
       "\n",
       "    .dataframe thead th {\n",
       "        text-align: right;\n",
       "    }\n",
       "</style>\n",
       "<table border=\"1\" class=\"dataframe\">\n",
       "  <thead>\n",
       "    <tr style=\"text-align: right;\">\n",
       "      <th></th>\n",
       "      <th>primaryName</th>\n",
       "      <th>birthYear</th>\n",
       "      <th>deathYear</th>\n",
       "      <th>primaryProfession</th>\n",
       "      <th>knownForTitles</th>\n",
       "    </tr>\n",
       "    <tr>\n",
       "      <th>nconst</th>\n",
       "      <th></th>\n",
       "      <th></th>\n",
       "      <th></th>\n",
       "      <th></th>\n",
       "      <th></th>\n",
       "    </tr>\n",
       "  </thead>\n",
       "  <tbody>\n",
       "    <tr>\n",
       "      <td>nm0000001</td>\n",
       "      <td>Fred Astaire</td>\n",
       "      <td>1899</td>\n",
       "      <td>1987</td>\n",
       "      <td>[soundtrack, actor, miscellaneous]</td>\n",
       "      <td>[tt0050419, tt0072308, tt0043044, tt0053137]</td>\n",
       "    </tr>\n",
       "    <tr>\n",
       "      <td>nm0000002</td>\n",
       "      <td>Lauren Bacall</td>\n",
       "      <td>1924</td>\n",
       "      <td>2014</td>\n",
       "      <td>[actress, soundtrack]</td>\n",
       "      <td>[tt0071877, tt0117057, tt0038355, tt0037382]</td>\n",
       "    </tr>\n",
       "    <tr>\n",
       "      <td>nm0000003</td>\n",
       "      <td>Brigitte Bardot</td>\n",
       "      <td>1934</td>\n",
       "      <td>\\N</td>\n",
       "      <td>[actress, soundtrack, producer]</td>\n",
       "      <td>[tt0054452, tt0049189, tt0059956, tt0057345]</td>\n",
       "    </tr>\n",
       "    <tr>\n",
       "      <td>nm0000004</td>\n",
       "      <td>John Belushi</td>\n",
       "      <td>1949</td>\n",
       "      <td>1982</td>\n",
       "      <td>[actor, soundtrack, writer]</td>\n",
       "      <td>[tt0080455, tt0072562, tt0077975, tt0078723]</td>\n",
       "    </tr>\n",
       "    <tr>\n",
       "      <td>nm0000005</td>\n",
       "      <td>Ingmar Bergman</td>\n",
       "      <td>1918</td>\n",
       "      <td>2007</td>\n",
       "      <td>[writer, director, actor]</td>\n",
       "      <td>[tt0060827, tt0050986, tt0083922, tt0050976]</td>\n",
       "    </tr>\n",
       "  </tbody>\n",
       "</table>\n",
       "</div>"
      ],
      "text/plain": [
       "               primaryName birthYear deathYear  \\\n",
       "nconst                                           \n",
       "nm0000001     Fred Astaire      1899      1987   \n",
       "nm0000002    Lauren Bacall      1924      2014   \n",
       "nm0000003  Brigitte Bardot      1934        \\N   \n",
       "nm0000004     John Belushi      1949      1982   \n",
       "nm0000005   Ingmar Bergman      1918      2007   \n",
       "\n",
       "                            primaryProfession  \\\n",
       "nconst                                          \n",
       "nm0000001  [soundtrack, actor, miscellaneous]   \n",
       "nm0000002               [actress, soundtrack]   \n",
       "nm0000003     [actress, soundtrack, producer]   \n",
       "nm0000004         [actor, soundtrack, writer]   \n",
       "nm0000005           [writer, director, actor]   \n",
       "\n",
       "                                         knownForTitles  \n",
       "nconst                                                   \n",
       "nm0000001  [tt0050419, tt0072308, tt0043044, tt0053137]  \n",
       "nm0000002  [tt0071877, tt0117057, tt0038355, tt0037382]  \n",
       "nm0000003  [tt0054452, tt0049189, tt0059956, tt0057345]  \n",
       "nm0000004  [tt0080455, tt0072562, tt0077975, tt0078723]  \n",
       "nm0000005  [tt0060827, tt0050986, tt0083922, tt0050976]  "
      ]
     },
     "execution_count": 10,
     "metadata": {},
     "output_type": "execute_result"
    }
   ],
   "source": [
    "name_df = name_basics_lite_df.set_index('nconst')\n",
    "name_df.head()"
   ]
  },
  {
   "cell_type": "code",
   "execution_count": 11,
   "metadata": {
    "scrolled": true
   },
   "outputs": [],
   "source": [
    "director_producer_lite_df = director_producer_lite_df.merge(name_df, on = 'nconst')"
   ]
  },
  {
   "cell_type": "code",
   "execution_count": 12,
   "metadata": {},
   "outputs": [
    {
     "data": {
      "text/plain": [
       "'\\\\N'"
      ]
     },
     "execution_count": 12,
     "metadata": {},
     "output_type": "execute_result"
    }
   ],
   "source": [
    "director_producer_lite_df['deathYear'][0]"
   ]
  },
  {
   "cell_type": "code",
   "execution_count": 16,
   "metadata": {
    "scrolled": true
   },
   "outputs": [
    {
     "data": {
      "text/html": [
       "<div>\n",
       "<style scoped>\n",
       "    .dataframe tbody tr th:only-of-type {\n",
       "        vertical-align: middle;\n",
       "    }\n",
       "\n",
       "    .dataframe tbody tr th {\n",
       "        vertical-align: top;\n",
       "    }\n",
       "\n",
       "    .dataframe thead th {\n",
       "        text-align: right;\n",
       "    }\n",
       "</style>\n",
       "<table border=\"1\" class=\"dataframe\">\n",
       "  <thead>\n",
       "    <tr style=\"text-align: right;\">\n",
       "      <th></th>\n",
       "      <th>primaryName</th>\n",
       "      <th>birthYear</th>\n",
       "      <th>deathYear</th>\n",
       "      <th>primaryProfession</th>\n",
       "      <th>knownForTitles</th>\n",
       "    </tr>\n",
       "    <tr>\n",
       "      <th>nconst</th>\n",
       "      <th></th>\n",
       "      <th></th>\n",
       "      <th></th>\n",
       "      <th></th>\n",
       "      <th></th>\n",
       "    </tr>\n",
       "  </thead>\n",
       "  <tbody>\n",
       "    <tr>\n",
       "      <td>nm0000003</td>\n",
       "      <td>Brigitte Bardot</td>\n",
       "      <td>1934</td>\n",
       "      <td>\\N</td>\n",
       "      <td>[actress, soundtrack, producer]</td>\n",
       "      <td>[tt0054452, tt0049189, tt0059956, tt0057345]</td>\n",
       "    </tr>\n",
       "    <tr>\n",
       "      <td>nm0000079</td>\n",
       "      <td>Raquel Welch</td>\n",
       "      <td>1940</td>\n",
       "      <td>\\N</td>\n",
       "      <td>[actress, soundtrack, producer]</td>\n",
       "      <td>[tt0068795, tt0070291, tt0072281, tt0061653]</td>\n",
       "    </tr>\n",
       "    <tr>\n",
       "      <td>nm0000085</td>\n",
       "      <td>Henner Hofmann</td>\n",
       "      <td>1950</td>\n",
       "      <td>\\N</td>\n",
       "      <td>[cinematographer, producer, camera_department]</td>\n",
       "      <td>[tt0113482, tt0097523, tt1825758, tt0097738]</td>\n",
       "    </tr>\n",
       "    <tr>\n",
       "      <td>nm0000092</td>\n",
       "      <td>John Cleese</td>\n",
       "      <td>1939</td>\n",
       "      <td>\\N</td>\n",
       "      <td>[actor, writer, producer]</td>\n",
       "      <td>[tt0071853, tt0095159, tt0085959, tt0079470]</td>\n",
       "    </tr>\n",
       "    <tr>\n",
       "      <td>nm0000093</td>\n",
       "      <td>Brad Pitt</td>\n",
       "      <td>1963</td>\n",
       "      <td>\\N</td>\n",
       "      <td>[actor, producer, soundtrack]</td>\n",
       "      <td>[tt0356910, tt0114746, tt2935510, tt1210166]</td>\n",
       "    </tr>\n",
       "    <tr>\n",
       "      <td>...</td>\n",
       "      <td>...</td>\n",
       "      <td>...</td>\n",
       "      <td>...</td>\n",
       "      <td>...</td>\n",
       "      <td>...</td>\n",
       "    </tr>\n",
       "    <tr>\n",
       "      <td>nm0010081</td>\n",
       "      <td>Casey Donahue Ackley</td>\n",
       "      <td>\\N</td>\n",
       "      <td>\\N</td>\n",
       "      <td>[writer, producer, production_manager]</td>\n",
       "      <td>[tt0177822, tt0330930]</td>\n",
       "    </tr>\n",
       "    <tr>\n",
       "      <td>nm0010084</td>\n",
       "      <td>Claudia Acklin</td>\n",
       "      <td>\\N</td>\n",
       "      <td>\\N</td>\n",
       "      <td>[director, writer, producer]</td>\n",
       "      <td>[tt1132448, tt0137078]</td>\n",
       "    </tr>\n",
       "    <tr>\n",
       "      <td>nm0010128</td>\n",
       "      <td>David Acomba</td>\n",
       "      <td>1944</td>\n",
       "      <td>\\N</td>\n",
       "      <td>[director, producer, music_department]</td>\n",
       "      <td>[tt0072181, tt0084048, tt0097972, tt0149458]</td>\n",
       "    </tr>\n",
       "    <tr>\n",
       "      <td>nm0010139</td>\n",
       "      <td>Lance Acord</td>\n",
       "      <td>1964</td>\n",
       "      <td>\\N</td>\n",
       "      <td>[cinematographer, producer, director]</td>\n",
       "      <td>[tt1990314, tt0335266, tt0386117, tt0422720]</td>\n",
       "    </tr>\n",
       "    <tr>\n",
       "      <td>nm0010158</td>\n",
       "      <td>Alvaro Acosta</td>\n",
       "      <td>\\N</td>\n",
       "      <td>\\N</td>\n",
       "      <td>[assistant_director, producer]</td>\n",
       "      <td>[tt0225192, tt0159879, tt0265154, tt4189570]</td>\n",
       "    </tr>\n",
       "  </tbody>\n",
       "</table>\n",
       "<p>2606 rows × 5 columns</p>\n",
       "</div>"
      ],
      "text/plain": [
       "                    primaryName birthYear deathYear  \\\n",
       "nconst                                                \n",
       "nm0000003       Brigitte Bardot      1934        \\N   \n",
       "nm0000079          Raquel Welch      1940        \\N   \n",
       "nm0000085        Henner Hofmann      1950        \\N   \n",
       "nm0000092           John Cleese      1939        \\N   \n",
       "nm0000093             Brad Pitt      1963        \\N   \n",
       "...                         ...       ...       ...   \n",
       "nm0010081  Casey Donahue Ackley        \\N        \\N   \n",
       "nm0010084        Claudia Acklin        \\N        \\N   \n",
       "nm0010128          David Acomba      1944        \\N   \n",
       "nm0010139           Lance Acord      1964        \\N   \n",
       "nm0010158         Alvaro Acosta        \\N        \\N   \n",
       "\n",
       "                                        primaryProfession  \\\n",
       "nconst                                                      \n",
       "nm0000003                 [actress, soundtrack, producer]   \n",
       "nm0000079                 [actress, soundtrack, producer]   \n",
       "nm0000085  [cinematographer, producer, camera_department]   \n",
       "nm0000092                       [actor, writer, producer]   \n",
       "nm0000093                   [actor, producer, soundtrack]   \n",
       "...                                                   ...   \n",
       "nm0010081          [writer, producer, production_manager]   \n",
       "nm0010084                    [director, writer, producer]   \n",
       "nm0010128          [director, producer, music_department]   \n",
       "nm0010139           [cinematographer, producer, director]   \n",
       "nm0010158                  [assistant_director, producer]   \n",
       "\n",
       "                                         knownForTitles  \n",
       "nconst                                                   \n",
       "nm0000003  [tt0054452, tt0049189, tt0059956, tt0057345]  \n",
       "nm0000079  [tt0068795, tt0070291, tt0072281, tt0061653]  \n",
       "nm0000085  [tt0113482, tt0097523, tt1825758, tt0097738]  \n",
       "nm0000092  [tt0071853, tt0095159, tt0085959, tt0079470]  \n",
       "nm0000093  [tt0356910, tt0114746, tt2935510, tt1210166]  \n",
       "...                                                 ...  \n",
       "nm0010081                        [tt0177822, tt0330930]  \n",
       "nm0010084                        [tt1132448, tt0137078]  \n",
       "nm0010128  [tt0072181, tt0084048, tt0097972, tt0149458]  \n",
       "nm0010139  [tt1990314, tt0335266, tt0386117, tt0422720]  \n",
       "nm0010158  [tt0225192, tt0159879, tt0265154, tt4189570]  \n",
       "\n",
       "[2606 rows x 5 columns]"
      ]
     },
     "execution_count": 16,
     "metadata": {},
     "output_type": "execute_result"
    }
   ],
   "source": [
    "## get rid of all producer/directors who have died\n",
    "director_producer_lite_df = director_producer_lite_df[director_producer_lite_df['deathYear'] == '\\\\N'].set_index('nconst')\n",
    "director_producer_lite_df"
   ]
  },
  {
   "cell_type": "code",
   "execution_count": 18,
   "metadata": {
    "scrolled": false
   },
   "outputs": [
    {
     "data": {
      "text/html": [
       "<div>\n",
       "<style scoped>\n",
       "    .dataframe tbody tr th:only-of-type {\n",
       "        vertical-align: middle;\n",
       "    }\n",
       "\n",
       "    .dataframe tbody tr th {\n",
       "        vertical-align: top;\n",
       "    }\n",
       "\n",
       "    .dataframe thead th {\n",
       "        text-align: right;\n",
       "    }\n",
       "</style>\n",
       "<table border=\"1\" class=\"dataframe\">\n",
       "  <thead>\n",
       "    <tr style=\"text-align: right;\">\n",
       "      <th></th>\n",
       "      <th>nconst</th>\n",
       "      <th>primaryName</th>\n",
       "      <th>birthYear</th>\n",
       "      <th>deathYear</th>\n",
       "      <th>primaryProfession</th>\n",
       "      <th>knownForTitles</th>\n",
       "    </tr>\n",
       "  </thead>\n",
       "  <tbody>\n",
       "    <tr>\n",
       "      <td>0</td>\n",
       "      <td>nm0000003</td>\n",
       "      <td>Brigitte Bardot</td>\n",
       "      <td>1934</td>\n",
       "      <td>\\N</td>\n",
       "      <td>[actress, soundtrack, producer]</td>\n",
       "      <td>[tt0054452, tt0049189, tt0059956, tt0057345]</td>\n",
       "    </tr>\n",
       "    <tr>\n",
       "      <td>1</td>\n",
       "      <td>nm0000079</td>\n",
       "      <td>Raquel Welch</td>\n",
       "      <td>1940</td>\n",
       "      <td>\\N</td>\n",
       "      <td>[actress, soundtrack, producer]</td>\n",
       "      <td>[tt0068795, tt0070291, tt0072281, tt0061653]</td>\n",
       "    </tr>\n",
       "    <tr>\n",
       "      <td>2</td>\n",
       "      <td>nm0000085</td>\n",
       "      <td>Henner Hofmann</td>\n",
       "      <td>1950</td>\n",
       "      <td>\\N</td>\n",
       "      <td>[cinematographer, producer, camera_department]</td>\n",
       "      <td>[tt0113482, tt0097523, tt1825758, tt0097738]</td>\n",
       "    </tr>\n",
       "    <tr>\n",
       "      <td>3</td>\n",
       "      <td>nm0000092</td>\n",
       "      <td>John Cleese</td>\n",
       "      <td>1939</td>\n",
       "      <td>\\N</td>\n",
       "      <td>[actor, writer, producer]</td>\n",
       "      <td>[tt0071853, tt0095159, tt0085959, tt0079470]</td>\n",
       "    </tr>\n",
       "    <tr>\n",
       "      <td>4</td>\n",
       "      <td>nm0000093</td>\n",
       "      <td>Brad Pitt</td>\n",
       "      <td>1963</td>\n",
       "      <td>\\N</td>\n",
       "      <td>[actor, producer, soundtrack]</td>\n",
       "      <td>[tt0356910, tt0114746, tt2935510, tt1210166]</td>\n",
       "    </tr>\n",
       "    <tr>\n",
       "      <td>...</td>\n",
       "      <td>...</td>\n",
       "      <td>...</td>\n",
       "      <td>...</td>\n",
       "      <td>...</td>\n",
       "      <td>...</td>\n",
       "      <td>...</td>\n",
       "    </tr>\n",
       "    <tr>\n",
       "      <td>2601</td>\n",
       "      <td>nm0010081</td>\n",
       "      <td>Casey Donahue Ackley</td>\n",
       "      <td>\\N</td>\n",
       "      <td>\\N</td>\n",
       "      <td>[writer, producer, production_manager]</td>\n",
       "      <td>[tt0177822, tt0330930]</td>\n",
       "    </tr>\n",
       "    <tr>\n",
       "      <td>2602</td>\n",
       "      <td>nm0010084</td>\n",
       "      <td>Claudia Acklin</td>\n",
       "      <td>\\N</td>\n",
       "      <td>\\N</td>\n",
       "      <td>[director, writer, producer]</td>\n",
       "      <td>[tt1132448, tt0137078]</td>\n",
       "    </tr>\n",
       "    <tr>\n",
       "      <td>2603</td>\n",
       "      <td>nm0010128</td>\n",
       "      <td>David Acomba</td>\n",
       "      <td>1944</td>\n",
       "      <td>\\N</td>\n",
       "      <td>[director, producer, music_department]</td>\n",
       "      <td>[tt0072181, tt0084048, tt0097972, tt0149458]</td>\n",
       "    </tr>\n",
       "    <tr>\n",
       "      <td>2604</td>\n",
       "      <td>nm0010139</td>\n",
       "      <td>Lance Acord</td>\n",
       "      <td>1964</td>\n",
       "      <td>\\N</td>\n",
       "      <td>[cinematographer, producer, director]</td>\n",
       "      <td>[tt1990314, tt0335266, tt0386117, tt0422720]</td>\n",
       "    </tr>\n",
       "    <tr>\n",
       "      <td>2605</td>\n",
       "      <td>nm0010158</td>\n",
       "      <td>Alvaro Acosta</td>\n",
       "      <td>\\N</td>\n",
       "      <td>\\N</td>\n",
       "      <td>[assistant_director, producer]</td>\n",
       "      <td>[tt0225192, tt0159879, tt0265154, tt4189570]</td>\n",
       "    </tr>\n",
       "  </tbody>\n",
       "</table>\n",
       "<p>2606 rows × 6 columns</p>\n",
       "</div>"
      ],
      "text/plain": [
       "         nconst           primaryName birthYear deathYear  \\\n",
       "0     nm0000003       Brigitte Bardot      1934        \\N   \n",
       "1     nm0000079          Raquel Welch      1940        \\N   \n",
       "2     nm0000085        Henner Hofmann      1950        \\N   \n",
       "3     nm0000092           John Cleese      1939        \\N   \n",
       "4     nm0000093             Brad Pitt      1963        \\N   \n",
       "...         ...                   ...       ...       ...   \n",
       "2601  nm0010081  Casey Donahue Ackley        \\N        \\N   \n",
       "2602  nm0010084        Claudia Acklin        \\N        \\N   \n",
       "2603  nm0010128          David Acomba      1944        \\N   \n",
       "2604  nm0010139           Lance Acord      1964        \\N   \n",
       "2605  nm0010158         Alvaro Acosta        \\N        \\N   \n",
       "\n",
       "                                   primaryProfession  \\\n",
       "0                    [actress, soundtrack, producer]   \n",
       "1                    [actress, soundtrack, producer]   \n",
       "2     [cinematographer, producer, camera_department]   \n",
       "3                          [actor, writer, producer]   \n",
       "4                      [actor, producer, soundtrack]   \n",
       "...                                              ...   \n",
       "2601          [writer, producer, production_manager]   \n",
       "2602                    [director, writer, producer]   \n",
       "2603          [director, producer, music_department]   \n",
       "2604           [cinematographer, producer, director]   \n",
       "2605                  [assistant_director, producer]   \n",
       "\n",
       "                                    knownForTitles  \n",
       "0     [tt0054452, tt0049189, tt0059956, tt0057345]  \n",
       "1     [tt0068795, tt0070291, tt0072281, tt0061653]  \n",
       "2     [tt0113482, tt0097523, tt1825758, tt0097738]  \n",
       "3     [tt0071853, tt0095159, tt0085959, tt0079470]  \n",
       "4     [tt0356910, tt0114746, tt2935510, tt1210166]  \n",
       "...                                            ...  \n",
       "2601                        [tt0177822, tt0330930]  \n",
       "2602                        [tt1132448, tt0137078]  \n",
       "2603  [tt0072181, tt0084048, tt0097972, tt0149458]  \n",
       "2604  [tt1990314, tt0335266, tt0386117, tt0422720]  \n",
       "2605  [tt0225192, tt0159879, tt0265154, tt4189570]  \n",
       "\n",
       "[2606 rows x 6 columns]"
      ]
     },
     "execution_count": 18,
     "metadata": {},
     "output_type": "execute_result"
    }
   ],
   "source": [
    "director_producer_lite_df = director_producer_lite_df.reset_index()\n",
    "director_producer_lite_df"
   ]
  },
  {
   "cell_type": "code",
   "execution_count": 23,
   "metadata": {},
   "outputs": [
    {
     "name": "stdout",
     "output_type": "stream",
     "text": [
      "4\n"
     ]
    }
   ],
   "source": [
    "totalKnownTitles = []\n",
    "for x in list(range(0,len(director_producer_lite_df))):\n",
    "    totalKnownTitles.append(len(director_producer_lite_df['knownForTitles'][x]))\n",
    "print(max(totalKnownTitles))"
   ]
  },
  {
   "cell_type": "code",
   "execution_count": 83,
   "metadata": {
    "scrolled": true
   },
   "outputs": [],
   "source": [
    "# director_producer_lite_df = director_producer_lite_df.set_index('nconst')"
   ]
  },
  {
   "cell_type": "code",
   "execution_count": 87,
   "metadata": {},
   "outputs": [],
   "source": [
    "# director_producer_lite_df = director_producer_lite_df.reset_index()"
   ]
  },
  {
   "cell_type": "markdown",
   "metadata": {},
   "source": [
    "We need specific things from each data frame:\n",
    "\n",
    "- Names: Directors/Producers that have produced a movie within the last decade, still alive, successful maybe or have produced a lot of movies "
   ]
  },
  {
   "cell_type": "markdown",
   "metadata": {},
   "source": [
    "# Title AKAS"
   ]
  },
  {
   "cell_type": "code",
   "execution_count": 23,
   "metadata": {},
   "outputs": [
    {
     "name": "stdout",
     "output_type": "stream",
     "text": [
      "<class 'pandas.core.frame.DataFrame'>\n",
      "RangeIndex: 1030009 entries, 0 to 1030008\n",
      "Data columns (total 3 columns):\n",
      "tconst           1030009 non-null object\n",
      "averageRating    1030009 non-null float64\n",
      "numVotes         1030009 non-null int64\n",
      "dtypes: float64(1), int64(1), object(1)\n",
      "memory usage: 23.6+ MB\n"
     ]
    }
   ],
   "source": [
    "# title_akas_df = pd.read_csv('IMDb_new_tsvs/title.akas.tsv', delimiter ='\\t')\n",
    "title_akas_lite_df = pd.read_csv('IMDb_new_tsvs/title.ratings.tsv', delimiter ='\\t', low_memory=False, encoding=\"UTF-8\")\n",
    "title_akas_lite_df.info()"
   ]
  },
  {
   "cell_type": "code",
   "execution_count": 7,
   "metadata": {},
   "outputs": [
    {
     "data": {
      "text/plain": [
       "\\N      6681921\n",
       "2017       4307\n",
       "2018       3770\n",
       "2016       3286\n",
       "2019       3161\n",
       "         ...   \n",
       "1944          1\n",
       "2027          1\n",
       "2025          1\n",
       "2023          1\n",
       "1937          1\n",
       "Name: endYear, Length: 94, dtype: int64"
      ]
     },
     "execution_count": 7,
     "metadata": {},
     "output_type": "execute_result"
    }
   ],
   "source": [
    "title_akas_lite_df.endYear.value_counts()"
   ]
  },
  {
   "cell_type": "code",
   "execution_count": 21,
   "metadata": {
    "scrolled": true
   },
   "outputs": [
    {
     "data": {
      "text/plain": [
       "array(['1894', '1892', '1893', '1895', '1896', '1898', '1897', '1900',\n",
       "       '1899', '1901', '1904', '1903', '1902', '1905', '1912', '1907',\n",
       "       '1906', '1908', '1910', '1909', '1914', '1911', '1913', '1915',\n",
       "       '1919', '1916', '1917', '1918', '1936', '1925', '1920', '1922',\n",
       "       '1921', '1923', '1924', '1928', '1926', '1927', '1929', '1993',\n",
       "       '1935', '2014', '1930', '2004', '1942', '1934', '1931', '1932',\n",
       "       '1939', '1937', '1933', '1950', '1938', '1951', '1945', '1946',\n",
       "       '1940', '1944', '1949', '1947', '1941', '1952', '1970', '1957',\n",
       "       '1943', '1959', '1948', '2001', '1953', '1954', '1965', '1983',\n",
       "       '1980', '1973', '1961', '1995', '1955', '1962', '1958', '1956',\n",
       "       '1960', '1964', '1967', '1968', '1963', '1969', '1985', '1971',\n",
       "       '1972', '1966', '1976', '1990', '1986', '1979', '1987', '1974',\n",
       "       '1981', '2020', '1988', '1975', '1978', '1977', '2010', '1989',\n",
       "       '\\\\N', '2018', '1984', '1982', '1992', '1991', '1994', '1999',\n",
       "       '2005', '2019', '1998', '1996', '2002', '1997', '2017', '2000',\n",
       "       '2013', '2006', '2009', '2008', '2003', '2007', '2016', '2012',\n",
       "       '2011', '2015', '1891', '2021', '1888', '1890', '2022', '1889',\n",
       "       '2024', '2023', '2026', '2027', '2025', '1887', '1878', '1874',\n",
       "       '2115', '1883', '1881', '1885'], dtype=object)"
      ]
     },
     "execution_count": 21,
     "metadata": {},
     "output_type": "execute_result"
    }
   ],
   "source": [
    "title_akas_lite_df.startYear.unique()"
   ]
  },
  {
   "cell_type": "code",
   "execution_count": null,
   "metadata": {},
   "outputs": [],
   "source": []
  }
 ],
 "metadata": {
  "kernelspec": {
   "display_name": "Python [conda env:learn-env] *",
   "language": "python",
   "name": "conda-env-learn-env-py"
  },
  "language_info": {
   "codemirror_mode": {
    "name": "ipython",
    "version": 3
   },
   "file_extension": ".py",
   "mimetype": "text/x-python",
   "name": "python",
   "nbconvert_exporter": "python",
   "pygments_lexer": "ipython3",
   "version": "3.6.9"
  }
 },
 "nbformat": 4,
 "nbformat_minor": 2
}
