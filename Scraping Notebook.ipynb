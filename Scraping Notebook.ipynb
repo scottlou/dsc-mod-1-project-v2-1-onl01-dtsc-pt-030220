{
 "cells": [
  {
   "cell_type": "code",
   "execution_count": 2,
   "metadata": {},
   "outputs": [],
   "source": [
    "import pandas as pd\n",
    "from bs4 import BeautifulSoup\n",
    "import requests\n",
    "import time\n",
    "\n",
    "   \n"
   ]
  },
  {
   "cell_type": "code",
   "execution_count": 3,
   "metadata": {},
   "outputs": [
    {
     "name": "stdout",
     "output_type": "stream",
     "text": [
      "<Response [200]>\n"
     ]
    }
   ],
   "source": [
    "response = requests.get('https://www.boxofficemojo.com/title/tt1502397')\n",
    "print(response) ## see what ya get\n",
    "\n",
    "titleID = 'tt1502397' "
   ]
  },
  {
   "cell_type": "code",
   "execution_count": 4,
   "metadata": {},
   "outputs": [
    {
     "name": "stdout",
     "output_type": "stream",
     "text": [
      "<div class=\"a-section a-spacing-none mojo-performance-summary-table\">\n",
      "<h2 class=\"a-size-large a-text-bold\">\n",
      "                All Releases\n",
      "            </h2>\n",
      "<div class=\"a-section a-spacing-none\">\n",
      "<span class=\"a-size-small\">\n",
      "                        \n",
      "                            \n",
      "                                Domestic (<span class=\"percent\">48.8%</span>)\n",
      "                            \n",
      "                            \n",
      "                        \n",
      "                    </span>\n",
      "<br/>\n",
      "<span class=\"a-size-medium a-text-bold\">\n",
      "<span class=\"money\">$204,417,855</span>\n",
      "</span>\n",
      "</div>\n",
      "<div class=\"a-section a-spacing-none\">\n",
      "<span class=\"a-size-small\">\n",
      "                        \n",
      "                            \n",
      "                                International (<span class=\"percent\">51.2%</span>)\n",
      "                            \n",
      "                            \n",
      "                        \n",
      "                    </span>\n",
      "<br/>\n",
      "<span class=\"a-size-medium a-text-bold\">\n",
      "<span class=\"money\">$214,656,791</span>\n",
      "</span>\n",
      "</div>\n",
      "<div class=\"a-section a-spacing-none\">\n",
      "<span class=\"a-size-small\">\n",
      "                        \n",
      "                            \n",
      "                                Worldwide \n",
      "                            \n",
      "                            \n",
      "                        \n",
      "                    </span>\n",
      "<br/>\n",
      "<span class=\"a-size-medium a-text-bold\">\n",
      "<span class=\"money\">$419,074,646</span>\n",
      "</span>\n",
      "</div>\n",
      "</div>\n"
     ]
    }
   ],
   "source": [
    "soup = BeautifulSoup(response.content, 'html.parser') ## BS tool args are your request, and the parser package\n",
    "profile = soup.find('div', class_=\"a-section a-spacing-none mojo-performance-summary-table\")\n",
    "print(profile)\n"
   ]
  },
  {
   "cell_type": "code",
   "execution_count": 5,
   "metadata": {},
   "outputs": [
    {
     "name": "stdout",
     "output_type": "stream",
     "text": [
      "[<span class=\"money\">$204,417,855</span>, <span class=\"money\">$214,656,791</span>, <span class=\"money\">$419,074,646</span>]\n"
     ]
    }
   ],
   "source": [
    "narrowDown = profile.findAll('span', class_='money')\n",
    "print(narrowDown)"
   ]
  },
  {
   "cell_type": "code",
   "execution_count": 6,
   "metadata": {
    "scrolled": true
   },
   "outputs": [
    {
     "name": "stdout",
     "output_type": "stream",
     "text": [
      "[['tt1502397', 204417855, 214656791, 419074646]]\n"
     ]
    },
    {
     "data": {
      "text/html": [
       "<div>\n",
       "<style scoped>\n",
       "    .dataframe tbody tr th:only-of-type {\n",
       "        vertical-align: middle;\n",
       "    }\n",
       "\n",
       "    .dataframe tbody tr th {\n",
       "        vertical-align: top;\n",
       "    }\n",
       "\n",
       "    .dataframe thead th {\n",
       "        text-align: right;\n",
       "    }\n",
       "</style>\n",
       "<table border=\"1\" class=\"dataframe\">\n",
       "  <thead>\n",
       "    <tr style=\"text-align: right;\">\n",
       "      <th></th>\n",
       "      <th>titleID</th>\n",
       "      <th>Domestic</th>\n",
       "      <th>International</th>\n",
       "      <th>Worldwide</th>\n",
       "    </tr>\n",
       "  </thead>\n",
       "  <tbody>\n",
       "    <tr>\n",
       "      <td>0</td>\n",
       "      <td>tt1502397</td>\n",
       "      <td>204417855</td>\n",
       "      <td>214656791</td>\n",
       "      <td>419074646</td>\n",
       "    </tr>\n",
       "  </tbody>\n",
       "</table>\n",
       "</div>"
      ],
      "text/plain": [
       "     titleID   Domestic  International  Worldwide\n",
       "0  tt1502397  204417855      214656791  419074646"
      ]
     },
     "execution_count": 6,
     "metadata": {},
     "output_type": "execute_result"
    }
   ],
   "source": [
    "rows = []\n",
    "\n",
    "domestic = int(narrowDown[0].text.replace('$','').replace(',',''))\n",
    "international = int(narrowDown[1].text.replace('$','').replace(',',''))\n",
    "worldwide = int(narrowDown[2].text.replace('$','').replace(',',''))\n",
    "\n",
    "rows.append([titleID, domestic, international, worldwide])\n",
    "df = pd.DataFrame(rows, columns = ['titleID','Domestic','International','Worldwide'])\n",
    "print(rows)\n",
    "df"
   ]
  },
  {
   "cell_type": "code",
   "execution_count": 9,
   "metadata": {},
   "outputs": [
    {
     "data": {
      "text/plain": [
       "204417855"
      ]
     },
     "execution_count": 9,
     "metadata": {},
     "output_type": "execute_result"
    }
   ],
   "source": [
    "rows[0][1]"
   ]
  },
  {
   "cell_type": "code",
   "execution_count": 19,
   "metadata": {
    "scrolled": true
   },
   "outputs": [
    {
     "data": {
      "text/plain": [
       "204417855"
      ]
     },
     "execution_count": 19,
     "metadata": {},
     "output_type": "execute_result"
    }
   ],
   "source": [
    "domestic_int = int(domestic_1)\n",
    "domestic_int"
   ]
  },
  {
   "cell_type": "markdown",
   "metadata": {},
   "source": [
    "# SCRAPING OTHER STUFF"
   ]
  },
  {
   "cell_type": "code",
   "execution_count": 35,
   "metadata": {},
   "outputs": [
    {
     "data": {
      "text/plain": [
       "<table class=\"a-bordered a-horizontal-stripes a-size-base-plus\"><tr><th class=\"a-span4\">Area</th><th class=\"a-span2\">Release Date</th><th class=\"a-span3 a-text-right\">Opening</th><th class=\"a-span3 a-text-right\">Gross</th></tr><tr><td><a class=\"a-link-normal\" href=\"/release/rl1035174401?ref_=bo_tt_gr_1\">Austria</a></td><td>Jan 17, 2020</td><td class=\"a-text-right\"><span class=\"money\">$559,138</span></td><td class=\"a-text-right\"><span class=\"money\">$2,288,434</span></td></tr><tr><td><a class=\"a-link-normal\" href=\"/release/rl817070593?ref_=bo_tt_gr_2\">Bahrain</a></td><td>Jan 16, 2020</td><td class=\"a-text-right\"><span class=\"money\">$294,915</span></td><td class=\"a-text-right\"><span class=\"money\">$1,330,071</span></td></tr><tr><td><a class=\"a-link-normal\" href=\"/release/rl1571979777?ref_=bo_tt_gr_3\">Belgium</a></td><td>Jan 22, 2020</td><td class=\"a-text-right\"><span class=\"money\">$1,114,284</span></td><td class=\"a-text-right\"><span class=\"money\">$5,086,130</span></td></tr><tr><td><a class=\"a-link-normal\" href=\"/release/rl2360377857?ref_=bo_tt_gr_4\">Bulgaria</a></td><td>Jan 17, 2020</td><td class=\"a-text-right\"><span class=\"money\">$155,823</span></td><td class=\"a-text-right\"><span class=\"money\">$724,016</span></td></tr><tr><td><a class=\"a-link-normal\" href=\"/release/rl850428417?ref_=bo_tt_gr_5\">Croatia</a></td><td>Jan 16, 2020</td><td class=\"a-text-right\"><span class=\"money\">$234,909</span></td><td class=\"a-text-right\"><span class=\"money\">$778,142</span></td></tr><tr><td><a class=\"a-link-normal\" href=\"/release/rl917537281?ref_=bo_tt_gr_6\">Czech Republic</a></td><td>Jan 16, 2020</td><td class=\"a-text-right\"><span class=\"money\">$240,422</span></td><td class=\"a-text-right\"><span class=\"money\">$820,019</span></td></tr><tr><td><a class=\"a-link-normal\" href=\"/release/rl733184513?ref_=bo_tt_gr_7\">Denmark</a></td><td>Jan 16, 2020</td><td class=\"a-text-right\"><span class=\"money\">$586,414</span></td><td class=\"a-text-right\"><span class=\"money\">$2,433,086</span></td></tr><tr><td><a class=\"a-link-normal\" href=\"/release/rl800293377?ref_=bo_tt_gr_8\">Egypt</a></td><td>Jan 16, 2020</td><td class=\"a-text-right\"><span class=\"money\">$176,935</span></td><td class=\"a-text-right\"><span class=\"money\">$987,261</span></td></tr><tr><td><a class=\"a-link-normal\" href=\"/release/rl565412353?ref_=bo_tt_gr_9\">Estonia</a></td><td>Jan 17, 2020</td><td class=\"a-text-right\"><span class=\"money\">$74,415</span></td><td class=\"a-text-right\"><span class=\"money\">$318,536</span></td></tr><tr><td><a class=\"a-link-normal\" href=\"/release/rl599753217?ref_=bo_tt_gr_10\">Ethiopia</a></td><td>Jan 16, 2020</td><td class=\"a-text-right\">\n",
       "        –\n",
       "    </td><td class=\"a-text-right\"><span class=\"money\">$38,774</span></td></tr><tr><td><a class=\"a-link-normal\" href=\"/release/rl615744001?ref_=bo_tt_gr_11\">Finland</a></td><td>Jan 17, 2020</td><td class=\"a-text-right\"><span class=\"money\">$303,293</span></td><td class=\"a-text-right\"><span class=\"money\">$1,180,505</span></td></tr><tr><td><a class=\"a-link-normal\" href=\"/release/rl3081994753?ref_=bo_tt_gr_12\">France</a></td><td>Jan 22, 2020</td><td class=\"a-text-right\"><span class=\"money\">$4,533,736</span></td><td class=\"a-text-right\"><span class=\"money\">$13,622,780</span></td></tr><tr><td><a class=\"a-link-normal\" href=\"/release/rl1521517057?ref_=bo_tt_gr_13\">Germany</a></td><td>Jan 16, 2020</td><td class=\"a-text-right\"><span class=\"money\">$4,709,915</span></td><td class=\"a-text-right\"><span class=\"money\">$17,641,111</span></td></tr><tr><td><a class=\"a-link-normal\" href=\"/release/rl649298433?ref_=bo_tt_gr_14\">Greece</a></td><td>Jan 16, 2020</td><td class=\"a-text-right\"><span class=\"money\">$110,762</span></td><td class=\"a-text-right\"><span class=\"money\">$441,329</span></td></tr><tr><td><a class=\"a-link-normal\" href=\"/release/rl531661313?ref_=bo_tt_gr_15\">Hungary</a></td><td>Jan 16, 2020</td><td class=\"a-text-right\"><span class=\"money\">$516,019</span></td><td class=\"a-text-right\"><span class=\"money\">$1,807,224</span></td></tr><tr><td><a class=\"a-link-normal\" href=\"/release/rl347111937?ref_=bo_tt_gr_16\">Iceland</a></td><td>Jan 17, 2020</td><td class=\"a-text-right\"><span class=\"money\">$46,425</span></td><td class=\"a-text-right\"><span class=\"money\">$156,815</span></td></tr><tr><td><a class=\"a-link-normal\" href=\"/release/rl415203841?ref_=bo_tt_gr_17\">Iraq</a></td><td>Jan 16, 2020</td><td class=\"a-text-right\">\n",
       "        –\n",
       "    </td><td class=\"a-text-right\"><span class=\"money\">$356,327</span></td></tr><tr><td><a class=\"a-link-normal\" href=\"/release/rl280199681?ref_=bo_tt_gr_18\">Israel</a></td><td>Jan 16, 2020</td><td class=\"a-text-right\"><span class=\"money\">$510,595</span></td><td class=\"a-text-right\"><span class=\"money\">$2,193,216</span></td></tr><tr><td><a class=\"a-link-normal\" href=\"/release/rl3350823425?ref_=bo_tt_gr_19\">Italy</a></td><td>Feb 20, 2020</td><td class=\"a-text-right\"><span class=\"money\">$959,865</span></td><td class=\"a-text-right\"><span class=\"money\">$1,581,293</span></td></tr><tr><td><a class=\"a-link-normal\" href=\"/release/rl347308545?ref_=bo_tt_gr_20\">Jordan</a></td><td>Jan 16, 2020</td><td class=\"a-text-right\"><span class=\"money\">$93,994</span></td><td class=\"a-text-right\"><span class=\"money\">$484,872</span></td></tr><tr><td><a class=\"a-link-normal\" href=\"/release/rl364085761?ref_=bo_tt_gr_21\">Kenya</a></td><td>Jan 17, 2020</td><td class=\"a-text-right\"><span class=\"money\">$51,260</span></td><td class=\"a-text-right\"><span class=\"money\">$257,548</span></td></tr><tr><td><a class=\"a-link-normal\" href=\"/release/rl380862977?ref_=bo_tt_gr_22\">Kuwait</a></td><td>Jan 16, 2020</td><td class=\"a-text-right\"><span class=\"money\">$561,259</span></td><td class=\"a-text-right\"><span class=\"money\">$2,211,609</span></td></tr><tr><td><a class=\"a-link-normal\" href=\"/release/rl397640193?ref_=bo_tt_gr_23\">Latvia</a></td><td>Jan 17, 2020</td><td class=\"a-text-right\"><span class=\"money\">$40,583</span></td><td class=\"a-text-right\"><span class=\"money\">$203,600</span></td></tr><tr><td><a class=\"a-link-normal\" href=\"/release/rl179536385?ref_=bo_tt_gr_24\">Lebanon</a></td><td>Jan 16, 2020</td><td class=\"a-text-right\"><span class=\"money\">$134,903</span></td><td class=\"a-text-right\"><span class=\"money\">$598,187</span></td></tr><tr><td><a class=\"a-link-normal\" href=\"/release/rl397443585?ref_=bo_tt_gr_25\">Lithuania</a></td><td>Jan 17, 2020</td><td class=\"a-text-right\"><span class=\"money\">$66,517</span></td><td class=\"a-text-right\"><span class=\"money\">$207,528</span></td></tr><tr><td><a class=\"a-link-normal\" href=\"/release/rl3383984641?ref_=bo_tt_gr_26\">Netherlands</a></td><td>Jan 23, 2020</td><td class=\"a-text-right\"><span class=\"money\">$1,450,838</span></td><td class=\"a-text-right\"><span class=\"money\">$6,457,958</span></td></tr><tr><td><a class=\"a-link-normal\" href=\"/release/rl229868033?ref_=bo_tt_gr_27\">Nigeria</a></td><td>Jan 17, 2020</td><td class=\"a-text-right\"><span class=\"money\">$91,903</span></td><td class=\"a-text-right\"><span class=\"money\">$506,336</span></td></tr><tr><td><a class=\"a-link-normal\" href=\"/release/rl95453697?ref_=bo_tt_gr_28\">Norway</a></td><td>Jan 17, 2020</td><td class=\"a-text-right\"><span class=\"money\">$565,539</span></td><td class=\"a-text-right\"><span class=\"money\">$1,487,187</span></td></tr><tr><td><a class=\"a-link-normal\" href=\"/release/rl246645249?ref_=bo_tt_gr_29\">Oman</a></td><td>Jan 16, 2020</td><td class=\"a-text-right\"><span class=\"money\">$152,114</span></td><td class=\"a-text-right\"><span class=\"money\">$738,672</span></td></tr><tr><td><a class=\"a-link-normal\" href=\"/release/rl1236435457?ref_=bo_tt_gr_30\">Poland</a></td><td>Jan 24, 2020</td><td class=\"a-text-right\"><span class=\"money\">$335,808</span></td><td class=\"a-text-right\"><span class=\"money\">$1,124,045</span></td></tr><tr><td><a class=\"a-link-normal\" href=\"/release/rl2075165185?ref_=bo_tt_gr_31\">Portugal</a></td><td>Jan 16, 2020</td><td class=\"a-text-right\"><span class=\"money\">$472,814</span></td><td class=\"a-text-right\"><span class=\"money\">$1,898,057</span></td></tr><tr><td><a class=\"a-link-normal\" href=\"/release/rl2025030145?ref_=bo_tt_gr_32\">Qatar</a></td><td>Jan 16, 2020</td><td class=\"a-text-right\"><span class=\"money\">$350,135</span></td><td class=\"a-text-right\"><span class=\"money\">$1,206,508</span></td></tr><tr><td><a class=\"a-link-normal\" href=\"/release/rl1823506945?ref_=bo_tt_gr_33\">Romania</a></td><td>Jan 17, 2020</td><td class=\"a-text-right\"><span class=\"money\">$592,679</span></td><td class=\"a-text-right\"><span class=\"money\">$2,155,408</span></td></tr><tr><td><a class=\"a-link-normal\" href=\"/release/rl3082781185?ref_=bo_tt_gr_34\">Russia</a></td><td>Jan 23, 2020</td><td class=\"a-text-right\">\n",
       "        –\n",
       "    </td><td class=\"a-text-right\">\n",
       "        –\n",
       "    </td></tr><tr><td><a class=\"a-link-normal\" href=\"/release/rl3401089537?ref_=bo_tt_gr_35\">Saudi Arabia</a></td><td>Jan 16, 2020</td><td class=\"a-text-right\">\n",
       "        –\n",
       "    </td><td class=\"a-text-right\"><span class=\"money\">$8,799,351</span></td></tr><tr><td><a class=\"a-link-normal\" href=\"/release/rl699761153?ref_=bo_tt_gr_36\">Serbia and Montenegro</a></td><td>Jan 16, 2020</td><td class=\"a-text-right\">\n",
       "        –\n",
       "    </td><td class=\"a-text-right\"><span class=\"money\">$149,843</span></td></tr><tr><td><a class=\"a-link-normal\" href=\"/release/rl2545123841?ref_=bo_tt_gr_37\">Slovakia</a></td><td>Jan 23, 2020</td><td class=\"a-text-right\"><span class=\"money\">$167,447</span></td><td class=\"a-text-right\"><span class=\"money\">$404,457</span></td></tr><tr><td><a class=\"a-link-normal\" href=\"/release/rl1940947457?ref_=bo_tt_gr_38\">Slovenia</a></td><td>Jan 16, 2020</td><td class=\"a-text-right\"><span class=\"money\">$104,752</span></td><td class=\"a-text-right\"><span class=\"money\">$394,320</span></td></tr><tr><td><a class=\"a-link-normal\" href=\"/release/rl632455681?ref_=bo_tt_gr_39\">South Africa</a></td><td>Jan 24, 2020</td><td class=\"a-text-right\"><span class=\"money\">$917,252</span></td><td class=\"a-text-right\"><span class=\"money\">$2,914,990</span></td></tr><tr><td><a class=\"a-link-normal\" href=\"/release/rl3249570305?ref_=bo_tt_gr_40\">Spain</a></td><td>Jan 17, 2020</td><td class=\"a-text-right\"><span class=\"money\">$2,155,627</span></td><td class=\"a-text-right\"><span class=\"money\">$7,297,951</span></td></tr><tr><td><a class=\"a-link-normal\" href=\"/release/rl2075361793?ref_=bo_tt_gr_41\">Sweden</a></td><td>Jan 17, 2020</td><td class=\"a-text-right\"><span class=\"money\">$660,747</span></td><td class=\"a-text-right\"><span class=\"money\">$2,990,540</span></td></tr><tr><td><a class=\"a-link-normal\" href=\"/release/rl2125693441?ref_=bo_tt_gr_42\">Switzerland</a></td><td>Jan 16, 2020</td><td class=\"a-text-right\"><span class=\"money\">$681,116</span></td><td class=\"a-text-right\"><span class=\"money\">$3,540,233</span></td></tr><tr><td><a class=\"a-link-normal\" href=\"/release/rl901087745?ref_=bo_tt_gr_43\">Turkey</a></td><td>Jan 24, 2020</td><td class=\"a-text-right\"><span class=\"money\">$167,434</span></td><td class=\"a-text-right\"><span class=\"money\">$447,173</span></td></tr><tr><td><a class=\"a-link-normal\" href=\"/release/rl296911361?ref_=bo_tt_gr_44\">Ukraine</a></td><td>Jan 23, 2020</td><td class=\"a-text-right\"><span class=\"money\">$1,063,694</span></td><td class=\"a-text-right\"><span class=\"money\">$2,341,697</span></td></tr><tr><td><a class=\"a-link-normal\" href=\"/release/rl1773371905?ref_=bo_tt_gr_45\">United Arab Emirates</a></td><td>Jan 16, 2020</td><td class=\"a-text-right\"><span class=\"money\">$1,622,234</span></td><td class=\"a-text-right\"><span class=\"money\">$5,475,760</span></td></tr><tr><td><a class=\"a-link-normal\" href=\"/release/rl4256203265?ref_=bo_tt_gr_46\">United Kingdom</a></td><td>Jan 17, 2020</td><td class=\"a-text-right\"><span class=\"money\">$4,933,786</span></td><td class=\"a-text-right\"><span class=\"money\">$20,818,318</span></td></tr></table>"
      ]
     },
     "execution_count": 35,
     "metadata": {},
     "output_type": "execute_result"
    }
   ],
   "source": [
    "profile_b = soup.findAll('table', class_ = \"a-bordered a-horizontal-stripes a-size-base-plus\")[1]\n",
    "profile_b"
   ]
  },
  {
   "cell_type": "code",
   "execution_count": 39,
   "metadata": {},
   "outputs": [
    {
     "data": {
      "text/plain": [
       "[<tr><td><a class=\"a-link-normal\" href=\"/release/rl1035174401?ref_=bo_tt_gr_1\">Austria</a></td><td>Jan 17, 2020</td><td class=\"a-text-right\"><span class=\"money\">$559,138</span></td><td class=\"a-text-right\"><span class=\"money\">$2,288,434</span></td></tr>,\n",
       " <tr><td><a class=\"a-link-normal\" href=\"/release/rl817070593?ref_=bo_tt_gr_2\">Bahrain</a></td><td>Jan 16, 2020</td><td class=\"a-text-right\"><span class=\"money\">$294,915</span></td><td class=\"a-text-right\"><span class=\"money\">$1,330,071</span></td></tr>,\n",
       " <tr><td><a class=\"a-link-normal\" href=\"/release/rl1571979777?ref_=bo_tt_gr_3\">Belgium</a></td><td>Jan 22, 2020</td><td class=\"a-text-right\"><span class=\"money\">$1,114,284</span></td><td class=\"a-text-right\"><span class=\"money\">$5,086,130</span></td></tr>]"
      ]
     },
     "execution_count": 39,
     "metadata": {},
     "output_type": "execute_result"
    }
   ],
   "source": [
    "narrowDown_1 = profile_b.findAll('tr')[1:4]\n",
    "narrowDown_1"
   ]
  },
  {
   "cell_type": "code",
   "execution_count": 42,
   "metadata": {},
   "outputs": [
    {
     "name": "stdout",
     "output_type": "stream",
     "text": [
      "[['Austria', 2288434], ['Bahrain', 1330071], ['Belgium', 5086130]]\n"
     ]
    },
    {
     "data": {
      "text/html": [
       "<div>\n",
       "<style scoped>\n",
       "    .dataframe tbody tr th:only-of-type {\n",
       "        vertical-align: middle;\n",
       "    }\n",
       "\n",
       "    .dataframe tbody tr th {\n",
       "        vertical-align: top;\n",
       "    }\n",
       "\n",
       "    .dataframe thead th {\n",
       "        text-align: right;\n",
       "    }\n",
       "</style>\n",
       "<table border=\"1\" class=\"dataframe\">\n",
       "  <thead>\n",
       "    <tr style=\"text-align: right;\">\n",
       "      <th></th>\n",
       "      <th>Country</th>\n",
       "      <th>Gross</th>\n",
       "    </tr>\n",
       "  </thead>\n",
       "  <tbody>\n",
       "    <tr>\n",
       "      <td>0</td>\n",
       "      <td>Austria</td>\n",
       "      <td>2288434</td>\n",
       "    </tr>\n",
       "    <tr>\n",
       "      <td>1</td>\n",
       "      <td>Bahrain</td>\n",
       "      <td>1330071</td>\n",
       "    </tr>\n",
       "    <tr>\n",
       "      <td>2</td>\n",
       "      <td>Belgium</td>\n",
       "      <td>5086130</td>\n",
       "    </tr>\n",
       "  </tbody>\n",
       "</table>\n",
       "</div>"
      ],
      "text/plain": [
       "   Country    Gross\n",
       "0  Austria  2288434\n",
       "1  Bahrain  1330071\n",
       "2  Belgium  5086130"
      ]
     },
     "execution_count": 42,
     "metadata": {},
     "output_type": "execute_result"
    }
   ],
   "source": [
    "rows_1 = []\n",
    "for entry in narrowDown_1:\n",
    "    country = entry.findAll('td')[0].text\n",
    "    gross = int(entry.findAll('td')[-1].text.replace('$','').replace(',',''))\n",
    "    rows_1.append([country, gross])\n",
    "print(rows_1)\n",
    "df_1 = pd.DataFrame(rows_1, columns = ['Country','Gross'])\n",
    "df_1"
   ]
  },
  {
   "cell_type": "markdown",
   "metadata": {},
   "source": [
    "# CREDITS PAGE"
   ]
  },
  {
   "cell_type": "code",
   "execution_count": null,
   "metadata": {},
   "outputs": [],
   "source": []
  }
 ],
 "metadata": {
  "kernelspec": {
   "display_name": "Python [conda env:learn-env] *",
   "language": "python",
   "name": "conda-env-learn-env-py"
  },
  "language_info": {
   "codemirror_mode": {
    "name": "ipython",
    "version": 3
   },
   "file_extension": ".py",
   "mimetype": "text/x-python",
   "name": "python",
   "nbconvert_exporter": "python",
   "pygments_lexer": "ipython3",
   "version": "3.6.9"
  }
 },
 "nbformat": 4,
 "nbformat_minor": 2
}
